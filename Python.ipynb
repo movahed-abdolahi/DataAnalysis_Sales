{
  "cells": [
    {
      "cell_type": "code",
      "execution_count": null,
      "metadata": {
        "id": "9h4hOchcmhti"
      },
      "outputs": [],
      "source": [
        "def add_numbers(x, y):\n",
        "    return x + y"
      ]
    },
    {
      "cell_type": "code",
      "execution_count": null,
      "metadata": {
        "id": "B6YkvTlemhtk"
      },
      "outputs": [],
      "source": [
        "# try changing \"Python\" to something else.\n",
        "# Don't remove the quotes.\n",
        "language = \"Python\"\n",
        "\n",
        "if language == \"Python\":\n",
        "    print(\"Let the fun begin!\")\n",
        "else:\n",
        "    print(\"You sure?\")"
      ]
    },
    {
      "cell_type": "markdown",
      "metadata": {
        "id": "82JmYMc7mhtk"
      },
      "source": [
        "![green-divider](https://user-images.githubusercontent.com/7065401/52071924-c003ad80-2562-11e9-8297-1c6595f8a7ff.png)\n",
        "\n",
        "### Comments\n",
        "\n",
        "You've seen comments in the previous block of code: they're prefixed with a pound/hashtag sign:"
      ]
    },
    {
      "cell_type": "code",
      "execution_count": null,
      "metadata": {
        "id": "hCN0A-H0mhtk"
      },
      "outputs": [],
      "source": [
        "# this is a comment"
      ]
    },
    {
      "cell_type": "code",
      "execution_count": null,
      "metadata": {
        "id": "ogU6Pufmmhtk"
      },
      "outputs": [],
      "source": [
        "# it doesn't produce any output"
      ]
    },
    {
      "cell_type": "code",
      "execution_count": 1,
      "metadata": {
        "id": "kJt0kR5Hmhtl",
        "outputId": "641a581b-b2f6-4437-fee7-1cde77e489a1",
        "colab": {
          "base_uri": "https://localhost:8080/"
        }
      },
      "outputs": [
        {
          "output_type": "stream",
          "name": "stdout",
          "text": [
            "Hello World\n"
          ]
        }
      ],
      "source": [
        "# can be above...\n",
        "print(\"Hello World\")  # next to...\n",
        "# or below your code"
      ]
    },
    {
      "cell_type": "markdown",
      "metadata": {
        "id": "8SEXN1tUmhtl"
      },
      "source": [
        "![green-divider](https://user-images.githubusercontent.com/7065401/52071924-c003ad80-2562-11e9-8297-1c6595f8a7ff.png)\n",
        "\n",
        "### Variables\n",
        "\n",
        "We've defined a variable `language` in one of our previous examples. In Python, you can set a variable at any time, in any block of code, by just assigning a valid name to any value you want:"
      ]
    },
    {
      "cell_type": "code",
      "execution_count": 2,
      "metadata": {
        "id": "DNL7KtIfmhtl",
        "outputId": "9f0d6dbd-5cb0-4f0a-d42d-63efe0f952da",
        "colab": {
          "base_uri": "https://localhost:8080/"
        }
      },
      "outputs": [
        {
          "output_type": "stream",
          "name": "stdout",
          "text": [
            "Mary\n"
          ]
        }
      ],
      "source": [
        "name = \"Mary\"\n",
        "print(name)"
      ]
    },
    {
      "cell_type": "code",
      "execution_count": 3,
      "metadata": {
        "id": "5yRE7Xv5mhtl",
        "outputId": "14bb9748-6193-45b2-c87a-e1223dcb660f",
        "colab": {
          "base_uri": "https://localhost:8080/"
        }
      },
      "outputs": [
        {
          "output_type": "stream",
          "name": "stdout",
          "text": [
            "30\n"
          ]
        }
      ],
      "source": [
        "age = 30\n",
        "print(age)"
      ]
    },
    {
      "cell_type": "markdown",
      "metadata": {
        "id": "EpGprBMEmhtm"
      },
      "source": [
        "Variables, once set, will be preserved:"
      ]
    },
    {
      "cell_type": "code",
      "execution_count": 4,
      "metadata": {
        "id": "JAFeSX4hmhtm",
        "outputId": "1a186472-ae98-4108-e7ff-9ac8e465c654",
        "colab": {
          "base_uri": "https://localhost:8080/"
        }
      },
      "outputs": [
        {
          "output_type": "stream",
          "name": "stdout",
          "text": [
            "Mary is 30 years old\n"
          ]
        }
      ],
      "source": [
        "print(name, \"is\", age, \"years old\")"
      ]
    },
    {
      "cell_type": "markdown",
      "metadata": {
        "id": "GtDFapNImhtm"
      },
      "source": [
        "![green-divider](https://user-images.githubusercontent.com/7065401/52071924-c003ad80-2562-11e9-8297-1c6595f8a7ff.png)\n",
        "\n",
        "### Data Types\n",
        "\n",
        "Python supports the most common data types, the usual suspects we could say:\n",
        "\n",
        "#### Integers, type `int`:\n",
        "\n",
        "Integers have unlimited magnitude."
      ]
    },
    {
      "cell_type": "code",
      "execution_count": 5,
      "metadata": {
        "id": "uJkBODurmhtm"
      },
      "outputs": [],
      "source": [
        "# an int\n",
        "age = 30"
      ]
    },
    {
      "cell_type": "code",
      "execution_count": 6,
      "metadata": {
        "id": "W4dAuFfHmhtm",
        "outputId": "ba6b998f-99e8-4b44-ea31-9064709db3e9",
        "colab": {
          "base_uri": "https://localhost:8080/"
        }
      },
      "outputs": [
        {
          "output_type": "execute_result",
          "data": {
            "text/plain": [
              "30"
            ]
          },
          "metadata": {},
          "execution_count": 6
        }
      ],
      "source": [
        "age"
      ]
    },
    {
      "cell_type": "code",
      "execution_count": 7,
      "metadata": {
        "id": "5LpT9Nbjmhtm",
        "outputId": "8182a87b-960b-4dbe-b95a-9b7a88eb4c9d",
        "colab": {
          "base_uri": "https://localhost:8080/"
        }
      },
      "outputs": [
        {
          "output_type": "execute_result",
          "data": {
            "text/plain": [
              "int"
            ]
          },
          "metadata": {},
          "execution_count": 7
        }
      ],
      "source": [
        "type(age)"
      ]
    },
    {
      "cell_type": "markdown",
      "metadata": {
        "id": "n76Azm7Amhtm"
      },
      "source": [
        "#### Floats, type `float`:\n",
        "\n",
        "The standard floating point number"
      ]
    },
    {
      "cell_type": "code",
      "execution_count": 8,
      "metadata": {
        "id": "Xej0yelMmhtm"
      },
      "outputs": [],
      "source": [
        "# a float\n",
        "price = 2.50"
      ]
    },
    {
      "cell_type": "code",
      "execution_count": 9,
      "metadata": {
        "id": "bf5PTeHsmhtn",
        "outputId": "213a1d66-068a-464a-f376-4081ad28d563",
        "colab": {
          "base_uri": "https://localhost:8080/"
        }
      },
      "outputs": [
        {
          "output_type": "execute_result",
          "data": {
            "text/plain": [
              "2.5"
            ]
          },
          "metadata": {},
          "execution_count": 9
        }
      ],
      "source": [
        "price"
      ]
    },
    {
      "cell_type": "code",
      "execution_count": 10,
      "metadata": {
        "id": "jiweSGANmhtn",
        "outputId": "f23ada3d-7de9-44cb-fe17-aa86f5b810ae",
        "colab": {
          "base_uri": "https://localhost:8080/"
        }
      },
      "outputs": [
        {
          "output_type": "execute_result",
          "data": {
            "text/plain": [
              "float"
            ]
          },
          "metadata": {},
          "execution_count": 10
        }
      ],
      "source": [
        "type(price)"
      ]
    },
    {
      "cell_type": "markdown",
      "metadata": {
        "id": "UfiOhldFmhtn"
      },
      "source": [
        "Remember that floats sometimes exhibit \"extraneous\" behavior:"
      ]
    },
    {
      "cell_type": "code",
      "execution_count": 11,
      "metadata": {
        "id": "55DeQHbjmhtn",
        "outputId": "c7b20feb-975b-4f05-9f62-ea084158a053",
        "colab": {
          "base_uri": "https://localhost:8080/"
        }
      },
      "outputs": [
        {
          "output_type": "execute_result",
          "data": {
            "text/plain": [
              "0.30000000000000004"
            ]
          },
          "metadata": {},
          "execution_count": 11
        }
      ],
      "source": [
        "0.1 * 3"
      ]
    },
    {
      "cell_type": "markdown",
      "metadata": {
        "id": "DMj0sfq4mhtn"
      },
      "source": [
        "If you need decimal fixed point precision, you can use the [`decimal`](https://docs.python.org/3/library/decimal.html#module-decimal) module:"
      ]
    },
    {
      "cell_type": "code",
      "execution_count": 12,
      "metadata": {
        "id": "_1Y8vEilmhtn"
      },
      "outputs": [],
      "source": [
        "from decimal import Decimal"
      ]
    },
    {
      "cell_type": "code",
      "execution_count": 14,
      "metadata": {
        "id": "Tpv_dCrNmhtn",
        "outputId": "5bf091c3-fba0-430c-b1c9-5e72af18e73f",
        "colab": {
          "base_uri": "https://localhost:8080/"
        }
      },
      "outputs": [
        {
          "output_type": "execute_result",
          "data": {
            "text/plain": [
              "Decimal('0.03')"
            ]
          },
          "metadata": {},
          "execution_count": 14
        }
      ],
      "source": [
        "Decimal('0.01') * 3"
      ]
    },
    {
      "cell_type": "markdown",
      "metadata": {
        "id": "FtjyHBXJmhtn"
      },
      "source": [
        "#### Strings, type `str`\n",
        "\n",
        "Strings are used to store text. Technically, they're _\"immutable sequences of Unicode code points\"_. Which means that Python supports Unicode:"
      ]
    },
    {
      "cell_type": "code",
      "execution_count": 15,
      "metadata": {
        "id": "xUzvvsPCmhtn",
        "outputId": "d6d7bb39-cb68-48b0-abc5-cd15a6e2d8fc",
        "colab": {
          "base_uri": "https://localhost:8080/"
        }
      },
      "outputs": [
        {
          "output_type": "stream",
          "name": "stdout",
          "text": [
            "Hello unicode 👋\n"
          ]
        }
      ],
      "source": [
        "# Create them with double quotes:\n",
        "print(\"Hello unicode 👋\")"
      ]
    },
    {
      "cell_type": "code",
      "execution_count": null,
      "metadata": {
        "id": "8B2i4Dlqmhtn"
      },
      "outputs": [],
      "source": [
        "# single quotes:\n",
        "print('Omelette Du Fromage 🧀')"
      ]
    },
    {
      "cell_type": "code",
      "execution_count": 16,
      "metadata": {
        "id": "PyCB4wD_mhto",
        "outputId": "3b5a9a5c-fd3e-4912-9bce-7dac7a32f9b2",
        "colab": {
          "base_uri": "https://localhost:8080/"
        }
      },
      "outputs": [
        {
          "output_type": "execute_result",
          "data": {
            "text/plain": [
              "str"
            ]
          },
          "metadata": {},
          "execution_count": 16
        }
      ],
      "source": [
        "type('Hello World')"
      ]
    },
    {
      "cell_type": "code",
      "execution_count": 17,
      "metadata": {
        "id": "UXgRgH1Smhto",
        "outputId": "ce5919a1-f7ed-4d4a-f316-99283752f0da",
        "colab": {
          "base_uri": "https://localhost:8080/"
        }
      },
      "outputs": [
        {
          "output_type": "execute_result",
          "data": {
            "text/plain": [
              "5"
            ]
          },
          "metadata": {},
          "execution_count": 17
        }
      ],
      "source": [
        "len(\"Hello\")"
      ]
    },
    {
      "cell_type": "markdown",
      "metadata": {
        "id": "RC0UIF_Dmhto"
      },
      "source": [
        "You can use double or single quotes, it's the same. We also have \"multi-line\" strings, that are created with a pair of 3 quotes (simple or double, either works):"
      ]
    },
    {
      "cell_type": "code",
      "execution_count": 18,
      "metadata": {
        "id": "0zfn6OPcmhto",
        "outputId": "a8e61189-c260-44cb-a484-1d6e32cc83da",
        "colab": {
          "base_uri": "https://localhost:8080/"
        }
      },
      "outputs": [
        {
          "output_type": "stream",
          "name": "stdout",
          "text": [
            "\n",
            "Me: What’s the best thing about Switzerland?\n",
            "Friend: I don't know. What?\n",
            "Me: I don’t know, but the flag is a big plus.\n",
            "F: 😒\n",
            "\n"
          ]
        }
      ],
      "source": [
        "joke = \"\"\"\n",
        "Me: What’s the best thing about Switzerland?\n",
        "Friend: I don't know. What?\n",
        "Me: I don’t know, but the flag is a big plus.\n",
        "F: 😒\n",
        "\"\"\"\n",
        "\n",
        "print(joke)"
      ]
    },
    {
      "cell_type": "markdown",
      "metadata": {
        "id": "WAB6uBKUmhto"
      },
      "source": [
        "#### Booleans, type `bool`\n",
        "\n",
        "Python booleans are as simple as they get: `True` and `False`, **capitalized**."
      ]
    },
    {
      "cell_type": "code",
      "execution_count": 19,
      "metadata": {
        "id": "vTTrRRBHmhto",
        "outputId": "2b58022d-8964-4722-cc3a-3c3832fedbd4",
        "colab": {
          "base_uri": "https://localhost:8080/"
        }
      },
      "outputs": [
        {
          "output_type": "execute_result",
          "data": {
            "text/plain": [
              "True"
            ]
          },
          "metadata": {},
          "execution_count": 19
        }
      ],
      "source": [
        "True"
      ]
    },
    {
      "cell_type": "code",
      "execution_count": 20,
      "metadata": {
        "id": "OYkUT_IOmhto",
        "outputId": "0c495a94-d550-4d64-e36b-cb2870b916f4",
        "colab": {
          "base_uri": "https://localhost:8080/"
        }
      },
      "outputs": [
        {
          "output_type": "execute_result",
          "data": {
            "text/plain": [
              "bool"
            ]
          },
          "metadata": {},
          "execution_count": 20
        }
      ],
      "source": [
        "type(False)"
      ]
    },
    {
      "cell_type": "markdown",
      "metadata": {
        "id": "qfTeuQqImhtp"
      },
      "source": [
        "#### None, type `NoneType`\n",
        "\n",
        "As other languages have `null`, in Python we have `None`, which pretty much represents the absence of value:"
      ]
    },
    {
      "cell_type": "code",
      "execution_count": 21,
      "metadata": {
        "id": "TBQZyD9Cmhtp"
      },
      "outputs": [],
      "source": [
        "x = None"
      ]
    },
    {
      "cell_type": "code",
      "execution_count": 22,
      "metadata": {
        "id": "mBwlw0mnmhtt"
      },
      "outputs": [],
      "source": [
        "x"
      ]
    },
    {
      "cell_type": "code",
      "execution_count": 23,
      "metadata": {
        "id": "QO4ppnhLmhtt",
        "outputId": "f2bf07ff-ff6c-4808-df19-adc8a0a2bc91",
        "colab": {
          "base_uri": "https://localhost:8080/"
        }
      },
      "outputs": [
        {
          "output_type": "stream",
          "name": "stdout",
          "text": [
            "None\n"
          ]
        }
      ],
      "source": [
        "print(x)"
      ]
    },
    {
      "cell_type": "code",
      "execution_count": 24,
      "metadata": {
        "id": "d5sQrW2emhtt",
        "outputId": "2c9b8259-b831-4ce3-b3b7-e3fbed48ef0e",
        "colab": {
          "base_uri": "https://localhost:8080/"
        }
      },
      "outputs": [
        {
          "output_type": "execute_result",
          "data": {
            "text/plain": [
              "NoneType"
            ]
          },
          "metadata": {},
          "execution_count": 24
        }
      ],
      "source": [
        "type(None)"
      ]
    },
    {
      "cell_type": "markdown",
      "metadata": {
        "id": "22PJ6ynAmhtt"
      },
      "source": [
        "![green-divider](https://user-images.githubusercontent.com/7065401/52071924-c003ad80-2562-11e9-8297-1c6595f8a7ff.png)\n",
        "\n",
        "### `int`, `float`, `str` and `bool` objects and functions\n",
        "\n",
        "You'll often see some of these _\"keywords/names\"_ used both as functions and as individual objects. When used as functions, their usage is to transform/cast objects into its corresponding type. Example:"
      ]
    },
    {
      "cell_type": "code",
      "execution_count": 25,
      "metadata": {
        "id": "ZObbUz7gmhtt"
      },
      "outputs": [],
      "source": [
        "age_as_string = \"28\""
      ]
    },
    {
      "cell_type": "code",
      "execution_count": 26,
      "metadata": {
        "id": "NtT0rdiwmhtt",
        "outputId": "cd91af9a-6b08-40dc-eefd-ed1a3b7e684d",
        "colab": {
          "base_uri": "https://localhost:8080/"
        }
      },
      "outputs": [
        {
          "output_type": "execute_result",
          "data": {
            "text/plain": [
              "str"
            ]
          },
          "metadata": {},
          "execution_count": 26
        }
      ],
      "source": [
        "type(age_as_string)"
      ]
    },
    {
      "cell_type": "code",
      "execution_count": 27,
      "metadata": {
        "id": "NFQXj17Cmhtu",
        "outputId": "dc3ae48b-88a9-49e8-ef69-4e0f067d8e84",
        "colab": {
          "base_uri": "https://localhost:8080/"
        }
      },
      "outputs": [
        {
          "output_type": "execute_result",
          "data": {
            "text/plain": [
              "28"
            ]
          },
          "metadata": {},
          "execution_count": 27
        }
      ],
      "source": [
        "int(age_as_string)"
      ]
    },
    {
      "cell_type": "code",
      "execution_count": 28,
      "metadata": {
        "id": "v26XeCYHmhtu"
      },
      "outputs": [],
      "source": [
        "age = int(age_as_string)"
      ]
    },
    {
      "cell_type": "code",
      "execution_count": 29,
      "metadata": {
        "id": "wzDs_b2emhtu",
        "outputId": "86b0c0eb-d537-48c3-f4a6-9d95f5488335",
        "colab": {
          "base_uri": "https://localhost:8080/"
        }
      },
      "outputs": [
        {
          "output_type": "execute_result",
          "data": {
            "text/plain": [
              "int"
            ]
          },
          "metadata": {},
          "execution_count": 29
        }
      ],
      "source": [
        "type(age)"
      ]
    },
    {
      "cell_type": "markdown",
      "metadata": {
        "id": "J4zfdI5bmhtu"
      },
      "source": [
        "Their use as objects is mainly associated with their type:"
      ]
    },
    {
      "cell_type": "code",
      "execution_count": 30,
      "metadata": {
        "id": "Ry3xbzagmhtu",
        "outputId": "ba07a904-434d-49da-dd08-14db02329a2e",
        "colab": {
          "base_uri": "https://localhost:8080/"
        }
      },
      "outputs": [
        {
          "output_type": "execute_result",
          "data": {
            "text/plain": [
              "True"
            ]
          },
          "metadata": {},
          "execution_count": 30
        }
      ],
      "source": [
        "type(13) == int"
      ]
    },
    {
      "cell_type": "markdown",
      "metadata": {
        "id": "lhwmjP6Ymhtu"
      },
      "source": [
        "![green-divider](https://user-images.githubusercontent.com/7065401/52071924-c003ad80-2562-11e9-8297-1c6595f8a7ff.png)\n",
        "\n",
        "### Functions\n",
        "\n",
        "We've seen a couple of functions defined already, but let's dig a little bit deeper. Functions in Python are very intuitive. Let's start with an example of a function without parameters:"
      ]
    },
    {
      "cell_type": "code",
      "execution_count": 1,
      "metadata": {
        "id": "-7IBwclamhtu"
      },
      "outputs": [],
      "source": [
        "def hello():\n",
        "    return \"Hello World\""
      ]
    },
    {
      "cell_type": "markdown",
      "metadata": {
        "id": "aSa9nrYYmhtu"
      },
      "source": [
        "The `def` keyword indicate the _definition_ of a function, followed by a name and a list of arguments (which this function doesn't receive). The `return` statement is used to break the flow of the function and return a value back to the caller:"
      ]
    },
    {
      "cell_type": "code",
      "execution_count": 2,
      "metadata": {
        "id": "GKGRyAofmhtu"
      },
      "outputs": [],
      "source": [
        "result = hello()"
      ]
    },
    {
      "cell_type": "code",
      "execution_count": 3,
      "metadata": {
        "id": "slRByCFXmhtv",
        "outputId": "65cc0b63-6c52-4c0b-926c-2251c2b873e6",
        "colab": {
          "base_uri": "https://localhost:8080/",
          "height": 35
        }
      },
      "outputs": [
        {
          "output_type": "execute_result",
          "data": {
            "text/plain": [
              "'Hello World'"
            ],
            "application/vnd.google.colaboratory.intrinsic+json": {
              "type": "string"
            }
          },
          "metadata": {},
          "execution_count": 3
        }
      ],
      "source": [
        "result"
      ]
    },
    {
      "cell_type": "markdown",
      "metadata": {
        "id": "EjZX-0gJmhtv"
      },
      "source": [
        "If a function doesn't explicitly include a `return` statement, Python will return `None` by default:"
      ]
    },
    {
      "cell_type": "code",
      "execution_count": 4,
      "metadata": {
        "id": "JFnITwovmhtv"
      },
      "outputs": [],
      "source": [
        "def empty():\n",
        "    x = 3"
      ]
    },
    {
      "cell_type": "code",
      "execution_count": 5,
      "metadata": {
        "id": "Vl3T0QtRmhtv"
      },
      "outputs": [],
      "source": [
        "result = empty()"
      ]
    },
    {
      "cell_type": "code",
      "execution_count": 6,
      "metadata": {
        "id": "mhLfjAy2mhtv",
        "outputId": "38b39624-bf61-4161-f7ec-d750ba52c2d4",
        "colab": {
          "base_uri": "https://localhost:8080/"
        }
      },
      "outputs": [
        {
          "output_type": "stream",
          "name": "stdout",
          "text": [
            "None\n"
          ]
        }
      ],
      "source": [
        "print(result)"
      ]
    },
    {
      "cell_type": "markdown",
      "metadata": {
        "id": "IY8JrLL_mhtv"
      },
      "source": [
        "#### Receiving parameters\n",
        "\n",
        "There's a lot that can be done with Python parameters; including default and named parameters, and even variable/dynamic ones. But for now, we'll just focus on the basics. Function parameters are listed at the function definition, and they're part of the function's local scope:"
      ]
    },
    {
      "cell_type": "code",
      "execution_count": 7,
      "metadata": {
        "id": "5_N089d3mhtv"
      },
      "outputs": [],
      "source": [
        "def add(x, y):\n",
        "    return x + y"
      ]
    },
    {
      "cell_type": "code",
      "execution_count": 8,
      "metadata": {
        "id": "7VWLDb0fmhtv",
        "outputId": "baebbf88-e1ed-4891-cba1-1ba883c30df8",
        "colab": {
          "base_uri": "https://localhost:8080/"
        }
      },
      "outputs": [
        {
          "output_type": "execute_result",
          "data": {
            "text/plain": [
              "5"
            ]
          },
          "metadata": {},
          "execution_count": 8
        }
      ],
      "source": [
        "add(2, 3)"
      ]
    },
    {
      "cell_type": "markdown",
      "metadata": {
        "id": "XyOA7c2Kmhtv"
      },
      "source": [
        "We can also define functions that accept variable number of arguments, using the star args `*`:"
      ]
    },
    {
      "cell_type": "code",
      "execution_count": 9,
      "metadata": {
        "id": "xtOW-H9Omhtv"
      },
      "outputs": [],
      "source": [
        "def add(*args):\n",
        "    return sum(args)"
      ]
    },
    {
      "cell_type": "code",
      "execution_count": 13,
      "metadata": {
        "id": "nGQ4PYpQmhtw",
        "outputId": "52277209-b911-4960-9f5a-2fed1cffee07",
        "colab": {
          "base_uri": "https://localhost:8080/"
        }
      },
      "outputs": [
        {
          "output_type": "execute_result",
          "data": {
            "text/plain": [
              "3"
            ]
          },
          "metadata": {},
          "execution_count": 13
        }
      ],
      "source": [
        "add(1, 1, 1)"
      ]
    },
    {
      "cell_type": "code",
      "execution_count": 14,
      "metadata": {
        "id": "_7Hy6mF2mhtw",
        "outputId": "bba3be67-141f-40e0-9d5a-01994856f493",
        "colab": {
          "base_uri": "https://localhost:8080/"
        }
      },
      "outputs": [
        {
          "output_type": "execute_result",
          "data": {
            "text/plain": [
              "1"
            ]
          },
          "metadata": {},
          "execution_count": 14
        }
      ],
      "source": [
        "add(1)"
      ]
    },
    {
      "cell_type": "markdown",
      "metadata": {
        "id": "if9AEfSnmhtw"
      },
      "source": [
        "![green-divider](https://user-images.githubusercontent.com/7065401/52071924-c003ad80-2562-11e9-8297-1c6595f8a7ff.png)\n",
        "\n",
        "### Operators\n",
        "\n",
        "Both arithmetic and boolean operators are available, for example:\n",
        "\n",
        "#### Arithmetic operators"
      ]
    },
    {
      "cell_type": "code",
      "execution_count": 15,
      "metadata": {
        "id": "_udwwthxmhtw",
        "outputId": "32e4c747-c5be-4f4c-d834-de39bdce3cce",
        "colab": {
          "base_uri": "https://localhost:8080/"
        }
      },
      "outputs": [
        {
          "output_type": "execute_result",
          "data": {
            "text/plain": [
              "6"
            ]
          },
          "metadata": {},
          "execution_count": 15
        }
      ],
      "source": [
        "3 + 3"
      ]
    },
    {
      "cell_type": "code",
      "execution_count": 16,
      "metadata": {
        "id": "6ZDUiqzkmhtw",
        "outputId": "ae472a43-685f-4415-d231-4548300dd792",
        "colab": {
          "base_uri": "https://localhost:8080/"
        }
      },
      "outputs": [
        {
          "output_type": "execute_result",
          "data": {
            "text/plain": [
              "4"
            ]
          },
          "metadata": {},
          "execution_count": 16
        }
      ],
      "source": [
        "11 % 7"
      ]
    },
    {
      "cell_type": "code",
      "execution_count": 17,
      "metadata": {
        "id": "KBOoDJzcmhtw",
        "outputId": "5dda7af6-8e65-4d2a-d876-a3e8e5caa8c9",
        "colab": {
          "base_uri": "https://localhost:8080/"
        }
      },
      "outputs": [
        {
          "output_type": "execute_result",
          "data": {
            "text/plain": [
              "16"
            ]
          },
          "metadata": {},
          "execution_count": 17
        }
      ],
      "source": [
        "2 ** 4"
      ]
    },
    {
      "cell_type": "markdown",
      "metadata": {
        "id": "cVhzwyU_mhtw"
      },
      "source": [
        "Precedence can be consulted on [the official docs](https://docs.python.org/3/reference/expressions.html#operator-precedence). But, for the most part, the precedence is similar to the usual in arithmetic:"
      ]
    },
    {
      "cell_type": "code",
      "execution_count": 18,
      "metadata": {
        "id": "J-sJCeEkmhtw",
        "outputId": "00885708-51f6-44bc-becc-974758d879e6",
        "colab": {
          "base_uri": "https://localhost:8080/"
        }
      },
      "outputs": [
        {
          "output_type": "execute_result",
          "data": {
            "text/plain": [
              "23"
            ]
          },
          "metadata": {},
          "execution_count": 18
        }
      ],
      "source": [
        "3 + 4 * 5"
      ]
    },
    {
      "cell_type": "code",
      "execution_count": 19,
      "metadata": {
        "id": "OYjSvrE5mhtx",
        "outputId": "9b0736eb-26ba-4516-b26e-cc4345d98ca8",
        "colab": {
          "base_uri": "https://localhost:8080/"
        }
      },
      "outputs": [
        {
          "output_type": "execute_result",
          "data": {
            "text/plain": [
              "35"
            ]
          },
          "metadata": {},
          "execution_count": 19
        }
      ],
      "source": [
        "3 + 4 * 2**3"
      ]
    },
    {
      "cell_type": "markdown",
      "metadata": {
        "id": "nNrl8AoSmhtx"
      },
      "source": [
        "#### Boolean operators\n",
        "\n",
        "Regular comparison operators are available:"
      ]
    },
    {
      "cell_type": "code",
      "execution_count": 20,
      "metadata": {
        "id": "d4S6PbPQmhtx",
        "outputId": "78ae9426-14b6-40e2-c5ee-d282b7ade7c3",
        "colab": {
          "base_uri": "https://localhost:8080/"
        }
      },
      "outputs": [
        {
          "output_type": "execute_result",
          "data": {
            "text/plain": [
              "True"
            ]
          },
          "metadata": {},
          "execution_count": 20
        }
      ],
      "source": [
        "7 > 3"
      ]
    },
    {
      "cell_type": "code",
      "execution_count": 21,
      "metadata": {
        "id": "xDY3rKE2mhtx",
        "outputId": "90fbdef4-1b8e-445c-a10a-3041f04fb8cc",
        "colab": {
          "base_uri": "https://localhost:8080/"
        }
      },
      "outputs": [
        {
          "output_type": "execute_result",
          "data": {
            "text/plain": [
              "True"
            ]
          },
          "metadata": {},
          "execution_count": 21
        }
      ],
      "source": [
        "8 >= 8"
      ]
    },
    {
      "cell_type": "markdown",
      "metadata": {
        "id": "C5tB1H1Umhty"
      },
      "source": [
        "We said that Python is strongly typed, so comparison between different types will fail if these types are not compatible:"
      ]
    },
    {
      "cell_type": "code",
      "execution_count": 22,
      "metadata": {
        "id": "2dlSSUNTmhty",
        "outputId": "18412f3b-a4a5-4f84-911b-87204c52242a",
        "colab": {
          "base_uri": "https://localhost:8080/",
          "height": 141
        }
      },
      "outputs": [
        {
          "output_type": "error",
          "ename": "TypeError",
          "evalue": "'>' not supported between instances of 'int' and 'str'",
          "traceback": [
            "\u001b[0;31m---------------------------------------------------------------------------\u001b[0m",
            "\u001b[0;31mTypeError\u001b[0m                                 Traceback (most recent call last)",
            "\u001b[0;32m<ipython-input-22-9f94e2e4c974>\u001b[0m in \u001b[0;36m<cell line: 0>\u001b[0;34m()\u001b[0m\n\u001b[0;32m----> 1\u001b[0;31m \u001b[0;36m8\u001b[0m \u001b[0;34m>\u001b[0m \u001b[0;34m\"abc\"\u001b[0m\u001b[0;34m\u001b[0m\u001b[0;34m\u001b[0m\u001b[0m\n\u001b[0m",
            "\u001b[0;31mTypeError\u001b[0m: '>' not supported between instances of 'int' and 'str'"
          ]
        }
      ],
      "source": [
        "8 > \"abc\""
      ]
    },
    {
      "cell_type": "markdown",
      "metadata": {
        "id": "Vsp_XAM6mhty"
      },
      "source": [
        "Python also has other common boolean operators like `and`, `or`, `not`, etc. They are short circuited, as most modern programming languages:"
      ]
    },
    {
      "cell_type": "code",
      "execution_count": 23,
      "metadata": {
        "id": "Mp-Km_9Kmhty",
        "outputId": "2e102530-f660-487c-e364-aadd4a747c32",
        "colab": {
          "base_uri": "https://localhost:8080/"
        }
      },
      "outputs": [
        {
          "output_type": "execute_result",
          "data": {
            "text/plain": [
              "True"
            ]
          },
          "metadata": {},
          "execution_count": 23
        }
      ],
      "source": [
        "True and True"
      ]
    },
    {
      "cell_type": "code",
      "execution_count": 24,
      "metadata": {
        "id": "Bfxwmg1Umhty",
        "outputId": "766db117-f351-4c99-e282-86864cc30287",
        "colab": {
          "base_uri": "https://localhost:8080/"
        }
      },
      "outputs": [
        {
          "output_type": "execute_result",
          "data": {
            "text/plain": [
              "True"
            ]
          },
          "metadata": {},
          "execution_count": 24
        }
      ],
      "source": [
        "not False"
      ]
    },
    {
      "cell_type": "code",
      "execution_count": 25,
      "metadata": {
        "id": "zeVLAU0Qmhty",
        "outputId": "0bd95161-24a6-45c7-cce1-de06752e178f",
        "colab": {
          "base_uri": "https://localhost:8080/"
        }
      },
      "outputs": [
        {
          "output_type": "execute_result",
          "data": {
            "text/plain": [
              "True"
            ]
          },
          "metadata": {},
          "execution_count": 25
        }
      ],
      "source": [
        "False or True"
      ]
    },
    {
      "cell_type": "markdown",
      "metadata": {
        "id": "LmqM48yzmhty"
      },
      "source": [
        "![green-divider](https://user-images.githubusercontent.com/7065401/52071924-c003ad80-2562-11e9-8297-1c6595f8a7ff.png)\n",
        "\n",
        "### Control Flow\n",
        "\n",
        "Python supports the most common control flow blocks. Keep in mind they're defined with indentation.\n",
        "\n",
        "#### If/else/elif statements"
      ]
    },
    {
      "cell_type": "code",
      "execution_count": 26,
      "metadata": {
        "id": "XlYXdnfXmhty"
      },
      "outputs": [],
      "source": [
        "days_subscribed = 28"
      ]
    },
    {
      "cell_type": "code",
      "execution_count": 27,
      "metadata": {
        "id": "ESWv6tWVmhtz",
        "outputId": "40a6b734-7d45-4e7e-bb5c-7b7628c8524d",
        "colab": {
          "base_uri": "https://localhost:8080/"
        }
      },
      "outputs": [
        {
          "output_type": "stream",
          "name": "stdout",
          "text": [
            "Halfway there\n"
          ]
        }
      ],
      "source": [
        "if days_subscribed >= 30:\n",
        "    print(\"Loyal customer\")\n",
        "elif days_subscribed >= 15:\n",
        "    print(\"Halfway there\")\n",
        "elif days_subscribed >= 1:\n",
        "    print(\"Building confidence\")\n",
        "else:\n",
        "    print(\"Too early\")"
      ]
    },
    {
      "cell_type": "markdown",
      "metadata": {
        "id": "eObpN2XRmhtz"
      },
      "source": [
        "#### For loops\n",
        "\n",
        "For loops in Python are different than other languages, specially those C/Java-inspired languages. In Python, `for` loops are designed to iterate over collections (we'll see collections later). But keep that in mind."
      ]
    },
    {
      "cell_type": "code",
      "execution_count": 29,
      "metadata": {
        "id": "nI7f1Pfzmhtz"
      },
      "outputs": [],
      "source": [
        "names = ['Monica', 'Ross', 'Chandler', 'Joey', 'Rachel']"
      ]
    },
    {
      "cell_type": "code",
      "execution_count": 30,
      "metadata": {
        "id": "FUe9OFyjmhtz",
        "outputId": "ac6ba361-ac4b-4ff0-e466-7ee92261bafb",
        "colab": {
          "base_uri": "https://localhost:8080/"
        }
      },
      "outputs": [
        {
          "output_type": "stream",
          "name": "stdout",
          "text": [
            "Monica\n",
            "Ross\n",
            "Chandler\n",
            "Joey\n",
            "Rachel\n"
          ]
        }
      ],
      "source": [
        "for name in names:\n",
        "    print(name)"
      ]
    },
    {
      "cell_type": "markdown",
      "metadata": {
        "id": "GvEh4gAImhtz"
      },
      "source": [
        "#### While loops\n",
        "\n",
        "While loops are seldom used in Python. For loops are the preferred choice 99% of the time. Still, they're available and are useful for some situations:"
      ]
    },
    {
      "cell_type": "code",
      "execution_count": 31,
      "metadata": {
        "id": "EUfurDN_mhtz"
      },
      "outputs": [],
      "source": [
        "count = 0"
      ]
    },
    {
      "cell_type": "code",
      "execution_count": 32,
      "metadata": {
        "id": "Z6JXVb0qmhtz",
        "outputId": "4bbaedb8-5cce-47af-f3aa-f8d4e4ae2207",
        "colab": {
          "base_uri": "https://localhost:8080/"
        }
      },
      "outputs": [
        {
          "output_type": "stream",
          "name": "stdout",
          "text": [
            "Counting...\n",
            "Counting...\n",
            "Counting...\n"
          ]
        }
      ],
      "source": [
        "while count < 3:\n",
        "    print(\"Counting...\")\n",
        "    count += 1"
      ]
    },
    {
      "cell_type": "markdown",
      "metadata": {
        "id": "5j01IcgLmht0"
      },
      "source": [
        "There's another block to mention, `try/except`, but it's in the **_Exceptions_** section."
      ]
    },
    {
      "cell_type": "markdown",
      "metadata": {
        "id": "Ut4aHbuFmht0"
      },
      "source": [
        "![green-divider](https://user-images.githubusercontent.com/7065401/52071924-c003ad80-2562-11e9-8297-1c6595f8a7ff.png)\n",
        "\n",
        "### Collections\n",
        "\n",
        "Python has multiple versatile collection types, each with different features and capabilities. These are the most common collections we'll explore:\n",
        "\n",
        "* Lists\n",
        "* Tuples\n",
        "* Dictionaries\n",
        "* Sets\n",
        "\n",
        "Even though they all have different capabilities, there is one common property to all of them, and it's that Python collections are heterogeneous, that is, you can mix multiple types. That **doesn't mean we should** mix types, usually it's better to have a consistent collection. But it's still possible.\n",
        "\n",
        "#### Lists\n",
        "\n",
        "Lists are mutable, ordered sequences. We could argue, the most common collection type."
      ]
    },
    {
      "cell_type": "code",
      "execution_count": 33,
      "metadata": {
        "id": "J0ErHJGJmht0"
      },
      "outputs": [],
      "source": [
        "l = [3, 'Hello World', True]"
      ]
    },
    {
      "cell_type": "code",
      "execution_count": 34,
      "metadata": {
        "id": "UwaD2Ibdmht0",
        "outputId": "a45e1dac-a493-4998-bec2-b064ec6b6bfd",
        "colab": {
          "base_uri": "https://localhost:8080/"
        }
      },
      "outputs": [
        {
          "output_type": "execute_result",
          "data": {
            "text/plain": [
              "3"
            ]
          },
          "metadata": {},
          "execution_count": 34
        }
      ],
      "source": [
        "len(l)"
      ]
    },
    {
      "cell_type": "markdown",
      "metadata": {
        "id": "YKVkJIZbmht0"
      },
      "source": [
        "List elements are accessed using sequential indices (starting from `0`):"
      ]
    },
    {
      "cell_type": "code",
      "execution_count": 35,
      "metadata": {
        "id": "1GSjZh0Lmht0",
        "outputId": "8f7911b4-2446-46a1-b510-9e96029556c5",
        "colab": {
          "base_uri": "https://localhost:8080/"
        }
      },
      "outputs": [
        {
          "output_type": "execute_result",
          "data": {
            "text/plain": [
              "3"
            ]
          },
          "metadata": {},
          "execution_count": 35
        }
      ],
      "source": [
        "l[0]"
      ]
    },
    {
      "cell_type": "code",
      "execution_count": 36,
      "metadata": {
        "id": "tRND2JXwmht0",
        "outputId": "932aa5d8-6dc7-4622-e034-e7b2b6581ebc",
        "colab": {
          "base_uri": "https://localhost:8080/",
          "height": 35
        }
      },
      "outputs": [
        {
          "output_type": "execute_result",
          "data": {
            "text/plain": [
              "'Hello World'"
            ],
            "application/vnd.google.colaboratory.intrinsic+json": {
              "type": "string"
            }
          },
          "metadata": {},
          "execution_count": 36
        }
      ],
      "source": [
        "l[1]"
      ]
    },
    {
      "cell_type": "markdown",
      "metadata": {
        "id": "F7lNJQ-amht0"
      },
      "source": [
        "Negative indices are also supported:"
      ]
    },
    {
      "cell_type": "code",
      "execution_count": 37,
      "metadata": {
        "id": "4lInuOllmht0",
        "outputId": "e50d97eb-771a-4c21-832a-4d524942e7c6",
        "colab": {
          "base_uri": "https://localhost:8080/"
        }
      },
      "outputs": [
        {
          "output_type": "execute_result",
          "data": {
            "text/plain": [
              "True"
            ]
          },
          "metadata": {},
          "execution_count": 37
        }
      ],
      "source": [
        "l[-1]"
      ]
    },
    {
      "cell_type": "code",
      "execution_count": 38,
      "metadata": {
        "id": "yoXzsjImmht0",
        "outputId": "4318b038-62c1-4f11-da62-2fc483fa878b",
        "colab": {
          "base_uri": "https://localhost:8080/",
          "height": 35
        }
      },
      "outputs": [
        {
          "output_type": "execute_result",
          "data": {
            "text/plain": [
              "'Hello World'"
            ],
            "application/vnd.google.colaboratory.intrinsic+json": {
              "type": "string"
            }
          },
          "metadata": {},
          "execution_count": 38
        }
      ],
      "source": [
        "l[-2]"
      ]
    },
    {
      "cell_type": "markdown",
      "metadata": {
        "id": "ogBSnkXzmht1"
      },
      "source": [
        "Lists have many useful methods to add/remove elements:"
      ]
    },
    {
      "cell_type": "code",
      "execution_count": 39,
      "metadata": {
        "id": "O1GnHEJkmht1"
      },
      "outputs": [],
      "source": [
        "l.append('Python 🐍')"
      ]
    },
    {
      "cell_type": "code",
      "execution_count": 40,
      "metadata": {
        "id": "YIjKsxM-mht1",
        "outputId": "d8221dc6-0241-46c0-ca5f-488a1e6f6fb1",
        "colab": {
          "base_uri": "https://localhost:8080/"
        }
      },
      "outputs": [
        {
          "output_type": "execute_result",
          "data": {
            "text/plain": [
              "[3, 'Hello World', True, 'Python 🐍']"
            ]
          },
          "metadata": {},
          "execution_count": 40
        }
      ],
      "source": [
        "l"
      ]
    },
    {
      "cell_type": "code",
      "execution_count": 41,
      "metadata": {
        "id": "ABmySaQZmht1",
        "outputId": "9548154f-0fbe-488f-80a2-b6e533d82b9c",
        "colab": {
          "base_uri": "https://localhost:8080/"
        }
      },
      "outputs": [
        {
          "output_type": "execute_result",
          "data": {
            "text/plain": [
              "True"
            ]
          },
          "metadata": {},
          "execution_count": 41
        }
      ],
      "source": [
        "'Python 🐍' in l"
      ]
    },
    {
      "cell_type": "code",
      "execution_count": 42,
      "metadata": {
        "id": "L8WJ_6iAmht1",
        "outputId": "df045356-c876-4f79-cfc9-5d43cca9f277",
        "colab": {
          "base_uri": "https://localhost:8080/"
        }
      },
      "outputs": [
        {
          "output_type": "execute_result",
          "data": {
            "text/plain": [
              "False"
            ]
          },
          "metadata": {},
          "execution_count": 42
        }
      ],
      "source": [
        "'Ruby ♦️' in l"
      ]
    },
    {
      "cell_type": "markdown",
      "metadata": {
        "id": "g24XlRZlmht1"
      },
      "source": [
        "#### Tuples\n",
        "\n",
        "Tuples are very similar to lists, but with a huge difference: **they're immutable**. That means, once a tuple is created, it can't be further modified:"
      ]
    },
    {
      "cell_type": "code",
      "execution_count": 43,
      "metadata": {
        "id": "L-mgml0nmht1"
      },
      "outputs": [],
      "source": [
        "t = (3, 'Hello World', True)"
      ]
    },
    {
      "cell_type": "markdown",
      "metadata": {
        "id": "lBF7Ex7kmht1"
      },
      "source": [
        "Indexing them works in the same way:"
      ]
    },
    {
      "cell_type": "code",
      "execution_count": 44,
      "metadata": {
        "id": "v3-lZDJ_mht1",
        "outputId": "206ec2af-3273-4c69-b90c-8269042acd24",
        "colab": {
          "base_uri": "https://localhost:8080/"
        }
      },
      "outputs": [
        {
          "output_type": "execute_result",
          "data": {
            "text/plain": [
              "3"
            ]
          },
          "metadata": {},
          "execution_count": 44
        }
      ],
      "source": [
        "t[0]"
      ]
    },
    {
      "cell_type": "code",
      "execution_count": 45,
      "metadata": {
        "id": "0RGn56qKmht2",
        "outputId": "677b9aab-3bda-4a3f-b5a6-4434ab29bbd7",
        "colab": {
          "base_uri": "https://localhost:8080/"
        }
      },
      "outputs": [
        {
          "output_type": "execute_result",
          "data": {
            "text/plain": [
              "True"
            ]
          },
          "metadata": {},
          "execution_count": 45
        }
      ],
      "source": [
        "t[-1]"
      ]
    },
    {
      "cell_type": "code",
      "execution_count": 46,
      "metadata": {
        "id": "4o5KsUQBmht2",
        "outputId": "54c347af-7b10-4dd3-af17-70d3e1408bb5",
        "colab": {
          "base_uri": "https://localhost:8080/"
        }
      },
      "outputs": [
        {
          "output_type": "execute_result",
          "data": {
            "text/plain": [
              "True"
            ]
          },
          "metadata": {},
          "execution_count": 46
        }
      ],
      "source": [
        "'Hello World' in t"
      ]
    },
    {
      "cell_type": "markdown",
      "metadata": {
        "id": "qKyzqCIQmht2"
      },
      "source": [
        "But there's no way of modifying them."
      ]
    },
    {
      "cell_type": "markdown",
      "metadata": {
        "id": "URpcyf8Dmht2"
      },
      "source": [
        "#### Dictionaries\n",
        "\n",
        "Dictionaries are map-like collections that store values under a user-defined key. The key must be an immutable object; we usually employ strings for keys. Dictionaries are mutable, and more importantly, **unordered**."
      ]
    },
    {
      "cell_type": "code",
      "execution_count": 47,
      "metadata": {
        "id": "9bPoC1MBmht2"
      },
      "outputs": [],
      "source": [
        "user = {\n",
        "    \"name\": \"Mary Smith\",\n",
        "    \"email\": \"mary@example.com\",\n",
        "    \"age\": 30,\n",
        "    \"subscribed\": True\n",
        "}"
      ]
    },
    {
      "cell_type": "code",
      "execution_count": 48,
      "metadata": {
        "id": "vYtzlyYamht2",
        "outputId": "b717c938-ba40-43a3-b3f1-fbdd599bddf2",
        "colab": {
          "base_uri": "https://localhost:8080/"
        }
      },
      "outputs": [
        {
          "output_type": "execute_result",
          "data": {
            "text/plain": [
              "{'name': 'Mary Smith',\n",
              " 'email': 'mary@example.com',\n",
              " 'age': 30,\n",
              " 'subscribed': True}"
            ]
          },
          "metadata": {},
          "execution_count": 48
        }
      ],
      "source": [
        "user"
      ]
    },
    {
      "cell_type": "markdown",
      "metadata": {
        "id": "UAg8zRAtmht2"
      },
      "source": [
        "Access is by key, also using square brackets:"
      ]
    },
    {
      "cell_type": "code",
      "execution_count": 49,
      "metadata": {
        "id": "HvvUb9Udmht2",
        "outputId": "bd8093d7-f967-4000-e2e9-d7cfce3cd09c",
        "colab": {
          "base_uri": "https://localhost:8080/",
          "height": 35
        }
      },
      "outputs": [
        {
          "output_type": "execute_result",
          "data": {
            "text/plain": [
              "'mary@example.com'"
            ],
            "application/vnd.google.colaboratory.intrinsic+json": {
              "type": "string"
            }
          },
          "metadata": {},
          "execution_count": 49
        }
      ],
      "source": [
        "user['email']"
      ]
    },
    {
      "cell_type": "code",
      "execution_count": 50,
      "metadata": {
        "id": "oC16Z-8umht2",
        "outputId": "92a1060f-4bd6-4f60-935b-c6f7ad9841ed",
        "colab": {
          "base_uri": "https://localhost:8080/"
        }
      },
      "outputs": [
        {
          "output_type": "execute_result",
          "data": {
            "text/plain": [
              "True"
            ]
          },
          "metadata": {},
          "execution_count": 50
        }
      ],
      "source": [
        "'age' in user"
      ]
    },
    {
      "cell_type": "code",
      "execution_count": 51,
      "metadata": {
        "id": "FgIUAQL1mht2",
        "outputId": "c762f513-3d96-4962-ca21-60ebd5ae7797",
        "colab": {
          "base_uri": "https://localhost:8080/"
        }
      },
      "outputs": [
        {
          "output_type": "execute_result",
          "data": {
            "text/plain": [
              "False"
            ]
          },
          "metadata": {},
          "execution_count": 51
        }
      ],
      "source": [
        "'last_name' in user"
      ]
    },
    {
      "cell_type": "markdown",
      "metadata": {
        "id": "LKkVxxGpmht2"
      },
      "source": [
        "#### Sets\n",
        "\n",
        "Sets are unordered collection which the unique characteristic that they only contain unique elements:"
      ]
    },
    {
      "cell_type": "code",
      "execution_count": 65,
      "metadata": {
        "id": "lnhUv0PAmht3"
      },
      "outputs": [],
      "source": [
        "s = {3, 1, 3, 7, 9, 1, 3, 1}"
      ]
    },
    {
      "cell_type": "code",
      "execution_count": 66,
      "metadata": {
        "id": "XkbjUgtvmht3",
        "outputId": "2fb49bfa-ede5-4718-e508-2455d6019aa8",
        "colab": {
          "base_uri": "https://localhost:8080/"
        }
      },
      "outputs": [
        {
          "output_type": "execute_result",
          "data": {
            "text/plain": [
              "{1, 3, 7, 9}"
            ]
          },
          "metadata": {},
          "execution_count": 66
        }
      ],
      "source": [
        "s"
      ]
    },
    {
      "cell_type": "markdown",
      "metadata": {
        "id": "RYCPSffqmht3"
      },
      "source": [
        "Adding elements is done with the `add` method:"
      ]
    },
    {
      "cell_type": "code",
      "execution_count": 67,
      "metadata": {
        "id": "UHLv3byrmht3"
      },
      "outputs": [],
      "source": [
        "s.add(10)"
      ]
    },
    {
      "cell_type": "code",
      "source": [
        "s"
      ],
      "metadata": {
        "id": "XAnAs3QX9O5V",
        "outputId": "ffa12eb7-3852-4090-a22f-317ca9e00a43",
        "colab": {
          "base_uri": "https://localhost:8080/"
        }
      },
      "execution_count": 68,
      "outputs": [
        {
          "output_type": "execute_result",
          "data": {
            "text/plain": [
              "{1, 3, 7, 9, 10}"
            ]
          },
          "metadata": {},
          "execution_count": 68
        }
      ]
    },
    {
      "cell_type": "markdown",
      "metadata": {
        "id": "dQsFQY8Amht3"
      },
      "source": [
        "Removing elements can be done with `pop()`:"
      ]
    },
    {
      "cell_type": "code",
      "execution_count": 69,
      "metadata": {
        "id": "o_PbFeBGmht3",
        "outputId": "5127695f-d5ee-4bf4-d6bf-49c96e8efe57",
        "colab": {
          "base_uri": "https://localhost:8080/"
        }
      },
      "outputs": [
        {
          "output_type": "execute_result",
          "data": {
            "text/plain": [
              "1"
            ]
          },
          "metadata": {},
          "execution_count": 69
        }
      ],
      "source": [
        "s.pop()"
      ]
    },
    {
      "cell_type": "markdown",
      "metadata": {
        "id": "WOoFYBOMmht3"
      },
      "source": [
        "![green-divider](https://user-images.githubusercontent.com/7065401/52071924-c003ad80-2562-11e9-8297-1c6595f8a7ff.png)\n",
        "\n",
        "### Iterating collections\n",
        "\n",
        "As mentioned in the control flow section, Python's `for` loop is specially designed to iterate over collections:"
      ]
    },
    {
      "cell_type": "code",
      "execution_count": 70,
      "metadata": {
        "id": "6TOpydqxmht3"
      },
      "outputs": [],
      "source": [
        "l = [3, 'Hello World', True]"
      ]
    },
    {
      "cell_type": "code",
      "execution_count": 71,
      "metadata": {
        "id": "KKD4ApVbmht3",
        "outputId": "2a4034a2-561c-4b3e-99af-30aa1f802032",
        "colab": {
          "base_uri": "https://localhost:8080/"
        }
      },
      "outputs": [
        {
          "output_type": "stream",
          "name": "stdout",
          "text": [
            "3\n",
            "Hello World\n",
            "True\n"
          ]
        }
      ],
      "source": [
        "for elem in l:\n",
        "    print(elem)"
      ]
    },
    {
      "cell_type": "code",
      "source": [
        "user"
      ],
      "metadata": {
        "id": "Xz5o3X4cOYBO",
        "outputId": "65d7aecf-9dd2-4738-f0cd-c86978131fe7",
        "colab": {
          "base_uri": "https://localhost:8080/"
        }
      },
      "execution_count": 76,
      "outputs": [
        {
          "output_type": "execute_result",
          "data": {
            "text/plain": [
              "{'name': 'Mary Smith',\n",
              " 'email': 'mary@example.com',\n",
              " 'age': 30,\n",
              " 'subscribed': True}"
            ]
          },
          "metadata": {},
          "execution_count": 76
        }
      ]
    },
    {
      "cell_type": "code",
      "execution_count": 78,
      "metadata": {
        "id": "REKsuC60mht4",
        "outputId": "797d4ad2-73dc-4e6b-de9b-e467f2b8b347",
        "colab": {
          "base_uri": "https://localhost:8080/"
        }
      },
      "outputs": [
        {
          "output_type": "stream",
          "name": "stdout",
          "text": [
            "Name => Mary Smith\n",
            "Email => mary@example.com\n",
            "Age => 30\n",
            "Subscribed => True\n"
          ]
        }
      ],
      "source": [
        "for key in user:\n",
        "    print(key.title(), '=>', user[key])"
      ]
    },
    {
      "cell_type": "code",
      "source": [
        "for key, value in user.items():\n",
        "    print(key, \"=\", user[key])"
      ],
      "metadata": {
        "id": "AutfzdyrObXo",
        "outputId": "8c635829-70fd-48bd-bcaf-4d5b4e5002cf",
        "colab": {
          "base_uri": "https://localhost:8080/"
        }
      },
      "execution_count": 81,
      "outputs": [
        {
          "output_type": "stream",
          "name": "stdout",
          "text": [
            "name = Mary Smith\n",
            "email = mary@example.com\n",
            "age = 30\n",
            "subscribed = True\n"
          ]
        }
      ]
    },
    {
      "cell_type": "markdown",
      "metadata": {
        "id": "JPvEnCuPmht4"
      },
      "source": [
        "![green-divider](https://user-images.githubusercontent.com/7065401/52071924-c003ad80-2562-11e9-8297-1c6595f8a7ff.png)\n",
        "\n",
        "### Modules\n",
        "\n",
        "One of the best features of Python as a language, is its rich builtin library. To use external modules, you must first import them:"
      ]
    },
    {
      "cell_type": "code",
      "execution_count": 83,
      "metadata": {
        "id": "unoaPrKhmht4"
      },
      "outputs": [],
      "source": [
        "import random"
      ]
    },
    {
      "cell_type": "code",
      "execution_count": 91,
      "metadata": {
        "id": "5DRbZ4jUmht4",
        "outputId": "ee8bd65d-745c-4806-8614-31a238db56d0",
        "colab": {
          "base_uri": "https://localhost:8080/"
        }
      },
      "outputs": [
        {
          "output_type": "execute_result",
          "data": {
            "text/plain": [
              "39"
            ]
          },
          "metadata": {},
          "execution_count": 91
        }
      ],
      "source": [
        "random.randint(0, 99)"
      ]
    },
    {
      "cell_type": "markdown",
      "metadata": {
        "id": "TaoesmkZmht4"
      },
      "source": [
        "![green-divider](https://user-images.githubusercontent.com/7065401/52071924-c003ad80-2562-11e9-8297-1c6595f8a7ff.png)\n",
        "\n",
        "### Exceptions\n",
        "\n",
        "Exceptions are raised at runtime when an abnormal situation is produced in your program. Exceptions can also be constructed and raised by your code. Example of an exception:"
      ]
    },
    {
      "cell_type": "code",
      "execution_count": 92,
      "metadata": {
        "id": "v6Ljwek-mht4"
      },
      "outputs": [],
      "source": [
        "age = \"30\""
      ]
    },
    {
      "cell_type": "code",
      "execution_count": 93,
      "metadata": {
        "id": "zM2ZggO4mht4",
        "outputId": "a33e4be5-1a70-4f4d-af21-fad4d56175bd",
        "colab": {
          "base_uri": "https://localhost:8080/",
          "height": 159
        }
      },
      "outputs": [
        {
          "output_type": "error",
          "ename": "TypeError",
          "evalue": "'>' not supported between instances of 'str' and 'int'",
          "traceback": [
            "\u001b[0;31m---------------------------------------------------------------------------\u001b[0m",
            "\u001b[0;31mTypeError\u001b[0m                                 Traceback (most recent call last)",
            "\u001b[0;32m<ipython-input-93-31f2672e1932>\u001b[0m in \u001b[0;36m<cell line: 0>\u001b[0;34m()\u001b[0m\n\u001b[0;32m----> 1\u001b[0;31m \u001b[0;32mif\u001b[0m \u001b[0mage\u001b[0m \u001b[0;34m>\u001b[0m \u001b[0;36m21\u001b[0m\u001b[0;34m:\u001b[0m\u001b[0;34m\u001b[0m\u001b[0;34m\u001b[0m\u001b[0m\n\u001b[0m\u001b[1;32m      2\u001b[0m     \u001b[0mprint\u001b[0m\u001b[0;34m(\u001b[0m\u001b[0;34m\"Allowed entrance\"\u001b[0m\u001b[0;34m)\u001b[0m\u001b[0;34m\u001b[0m\u001b[0;34m\u001b[0m\u001b[0m\n",
            "\u001b[0;31mTypeError\u001b[0m: '>' not supported between instances of 'str' and 'int'"
          ]
        }
      ],
      "source": [
        "if age > 21:\n",
        "    print(\"Allowed entrance\")"
      ]
    },
    {
      "cell_type": "markdown",
      "metadata": {
        "id": "KwbwOy1Zmht4"
      },
      "source": [
        "Exceptions can be handled at runtime with a `try/except` block:"
      ]
    },
    {
      "cell_type": "code",
      "execution_count": 94,
      "metadata": {
        "id": "tyqeFMqhmht4",
        "outputId": "1b5a0b62-c49c-4651-fe7e-e7f4b2757c3b",
        "colab": {
          "base_uri": "https://localhost:8080/"
        }
      },
      "outputs": [
        {
          "output_type": "stream",
          "name": "stdout",
          "text": [
            "Something went wrong\n"
          ]
        }
      ],
      "source": [
        "try:\n",
        "    if age > 21:\n",
        "        print(\"Allowed entrance\")\n",
        "except:\n",
        "    print(\"Something went wrong\")"
      ]
    },
    {
      "cell_type": "markdown",
      "metadata": {
        "id": "vved1-Jamht5"
      },
      "source": [
        "The `except` portion can receive also be parametrized with the expected exception:"
      ]
    },
    {
      "cell_type": "code",
      "execution_count": 95,
      "metadata": {
        "id": "Ms9eeDKCmht5",
        "outputId": "b97b48cb-5d8e-451f-9de9-788d80b36f0f",
        "colab": {
          "base_uri": "https://localhost:8080/"
        }
      },
      "outputs": [
        {
          "output_type": "stream",
          "name": "stdout",
          "text": [
            "Age is probably of a wrong type\n"
          ]
        }
      ],
      "source": [
        "try:\n",
        "    if age > 21:\n",
        "        print(\"Allowed entrance\")\n",
        "except TypeError:\n",
        "    print(\"Age is probably of a wrong type\")"
      ]
    },
    {
      "cell_type": "markdown",
      "metadata": {
        "id": "8tpVdhtRmht5"
      },
      "source": [
        "![green-divider](https://user-images.githubusercontent.com/7065401/52071924-c003ad80-2562-11e9-8297-1c6595f8a7ff.png)\n",
        "\n",
        "## We're just getting started\n",
        "\n",
        "As you can imagine, there's a lot more to add about such a versatile and powerful language as Python. We're still missing many important topics like _OOP_, _File Management_, _Networking_, _Concurrency_, etc.\n",
        "\n",
        "If you're eager to learn more about Python, we've compiled a list of [3 recommended free Python books](https://blog.rmotr.com/the-3-python-books-you-need-to-get-started-for-free-9b72a2c6fb17) to get started."
      ]
    },
    {
      "cell_type": "markdown",
      "metadata": {
        "id": "3RhKoFVcmht5"
      },
      "source": [
        "![purple-divider](https://user-images.githubusercontent.com/7065401/52071927-c1cd7100-2562-11e9-908a-dde91ba14e59.png)"
      ]
    }
  ],
  "metadata": {
    "kernelspec": {
      "display_name": "Python 3",
      "language": "python",
      "name": "python3"
    },
    "language_info": {
      "codemirror_mode": {
        "name": "ipython",
        "version": 3
      },
      "file_extension": ".py",
      "mimetype": "text/x-python",
      "name": "python",
      "nbconvert_exporter": "python",
      "pygments_lexer": "ipython3",
      "version": "3.6.8"
    },
    "colab": {
      "provenance": []
    }
  },
  "nbformat": 4,
  "nbformat_minor": 0
}